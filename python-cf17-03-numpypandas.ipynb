{
 "cells": [
  {
   "cell_type": "markdown",
   "metadata": {},
   "source": [
    "Data Science In Python\n",
    "=======================\n",
    "Numpy and Pandas\n",
    "---------------\n",
    "**Cambridge, MA, January 9th 2017**\n",
    "<br>\n",
    "\n",
    "<center>\n",
    "<img src=http://ijstokes-public.s3.amazonaws.com/dspyr/img/AnacondaCIO_Logo width=400 />\n",
    "</center>\n",
    "\n",
    "**Copyrighted Continuum Analytics**\n",
    "\n",
    "<br>\n",
    "Taught by:\n",
    "\n",
    "* Ian Stokes-Rees [ijstokes@continuum.io](mailto:ijstokes@continuum.io)\n",
    "    * Twitter: [@ijstokes](http://twitter.com/ijstokes)\n",
    "    * About.Me: [http://about.me/ijstokes](http://about.me/ijstokes)\n",
    "    * LinkedIn: [http://linkedin.com/in/ijstokes](http://linkedin.com/in/ijstokes)"
   ]
  },
  {
   "cell_type": "markdown",
   "metadata": {},
   "source": [
    "Explore the NumPy and Matplotlib packages that provide vectors, matrices (well, sort of), and Matlab-like plotting capabilities."
   ]
  },
  {
   "cell_type": "markdown",
   "metadata": {},
   "source": [
    "References\n",
    "----------\n",
    "\n",
    "* <a href=\"http://docs.python.org/2/tutorial/\" target=\"_parent\">Python Tutorial</a> - a good next step to learning Python (about a 2-3 hour commitment)\n",
    "\n",
    "* <a href=\"http://docs.python.org/2/reference/lexical_analysis.html#keywords\" target=\"_parent\">Python Reserved Words</a> - about 40 terms that form the base grammar of the language.  NOTE: Thes are not functions.\n",
    "\n",
    "* <a href=\"http://docs.python.org/2/library/functions.html#built-in-functions\" target=\"_parent\">Python builtin module</a> functions (60) and classes (20)\n",
    "\n",
    "* <a href=\"http://docs.python.org/2/library/\" target=\"_parent\">Python Standard Library</a>\n",
    "\n",
    "* <a href=\"https://pypi.python.org/pypi\" target=\"_parent\">Python Package Index</a> community contributed Python packages\n",
    "\n",
    "* <a href=\"http://python.net/~goodger/projects/pycon/2007/idiomatic/handout.html\" target=\"_parent\">Idiomatic Python</a>"
   ]
  },
  {
   "cell_type": "markdown",
   "metadata": {},
   "source": [
    "Numpy\n",
    "====="
   ]
  },
  {
   "cell_type": "code",
   "execution_count": 1,
   "metadata": {
    "collapsed": false
   },
   "outputs": [],
   "source": [
    "import numpy as np\n",
    "\n",
    "s1 = np.array([1, 4, 9, 16, 25])"
   ]
  },
  {
   "cell_type": "code",
   "execution_count": 2,
   "metadata": {
    "collapsed": false
   },
   "outputs": [],
   "source": [
    "s2 = np.array([[1,2,3,4,5],\n",
    "               [1,4,9,16,25],\n",
    "               [1,8,27,64,125]])"
   ]
  },
  {
   "cell_type": "code",
   "execution_count": 3,
   "metadata": {
    "collapsed": false
   },
   "outputs": [
    {
     "data": {
      "text/plain": [
       "array([ 1,  4,  9, 16, 25])"
      ]
     },
     "execution_count": 3,
     "metadata": {},
     "output_type": "execute_result"
    }
   ],
   "source": [
    "s1"
   ]
  },
  {
   "cell_type": "code",
   "execution_count": 4,
   "metadata": {
    "collapsed": false
   },
   "outputs": [
    {
     "data": {
      "text/plain": [
       "array([[  1,   2,   3,   4,   5],\n",
       "       [  1,   4,   9,  16,  25],\n",
       "       [  1,   8,  27,  64, 125]])"
      ]
     },
     "execution_count": 4,
     "metadata": {},
     "output_type": "execute_result"
    }
   ],
   "source": [
    "s2"
   ]
  },
  {
   "cell_type": "code",
   "execution_count": 5,
   "metadata": {
    "collapsed": false
   },
   "outputs": [
    {
     "data": {
      "text/plain": [
       "16"
      ]
     },
     "execution_count": 5,
     "metadata": {},
     "output_type": "execute_result"
    }
   ],
   "source": [
    "s1[3]"
   ]
  },
  {
   "cell_type": "code",
   "execution_count": 6,
   "metadata": {
    "collapsed": false
   },
   "outputs": [],
   "source": [
    "v1 = s1[1:4] # different from Python list slices (which copy references)"
   ]
  },
  {
   "cell_type": "code",
   "execution_count": 7,
   "metadata": {
    "collapsed": false
   },
   "outputs": [
    {
     "data": {
      "text/plain": [
       "array([ 1,  4,  9, 16, 25])"
      ]
     },
     "execution_count": 7,
     "metadata": {},
     "output_type": "execute_result"
    }
   ],
   "source": [
    "s1"
   ]
  },
  {
   "cell_type": "code",
   "execution_count": 8,
   "metadata": {
    "collapsed": false
   },
   "outputs": [
    {
     "data": {
      "text/plain": [
       "array([ 4,  9, 16])"
      ]
     },
     "execution_count": 8,
     "metadata": {},
     "output_type": "execute_result"
    }
   ],
   "source": [
    "v1"
   ]
  },
  {
   "cell_type": "code",
   "execution_count": 9,
   "metadata": {
    "collapsed": false
   },
   "outputs": [],
   "source": [
    "s1[3] = 99"
   ]
  },
  {
   "cell_type": "code",
   "execution_count": 10,
   "metadata": {
    "collapsed": false
   },
   "outputs": [
    {
     "data": {
      "text/plain": [
       "array([ 1,  4,  9, 99, 25])"
      ]
     },
     "execution_count": 10,
     "metadata": {},
     "output_type": "execute_result"
    }
   ],
   "source": [
    "s1"
   ]
  },
  {
   "cell_type": "code",
   "execution_count": 11,
   "metadata": {
    "collapsed": false
   },
   "outputs": [
    {
     "data": {
      "text/plain": [
       "array([ 4,  9, 99])"
      ]
     },
     "execution_count": 11,
     "metadata": {},
     "output_type": "execute_result"
    }
   ],
   "source": [
    "v1"
   ]
  },
  {
   "cell_type": "code",
   "execution_count": 12,
   "metadata": {
    "collapsed": false
   },
   "outputs": [
    {
     "data": {
      "text/plain": [
       "4"
      ]
     },
     "execution_count": 12,
     "metadata": {},
     "output_type": "execute_result"
    }
   ],
   "source": [
    "v1[0]"
   ]
  },
  {
   "cell_type": "code",
   "execution_count": 13,
   "metadata": {
    "collapsed": false
   },
   "outputs": [],
   "source": [
    "v1[0] = 200"
   ]
  },
  {
   "cell_type": "code",
   "execution_count": 14,
   "metadata": {
    "collapsed": false
   },
   "outputs": [
    {
     "data": {
      "text/plain": [
       "array([200,   9,  99])"
      ]
     },
     "execution_count": 14,
     "metadata": {},
     "output_type": "execute_result"
    }
   ],
   "source": [
    "v1"
   ]
  },
  {
   "cell_type": "code",
   "execution_count": 15,
   "metadata": {
    "collapsed": false
   },
   "outputs": [
    {
     "data": {
      "text/plain": [
       "array([  1, 200,   9,  99,  25])"
      ]
     },
     "execution_count": 15,
     "metadata": {},
     "output_type": "execute_result"
    }
   ],
   "source": [
    "s1"
   ]
  },
  {
   "cell_type": "code",
   "execution_count": 16,
   "metadata": {
    "collapsed": false
   },
   "outputs": [
    {
     "data": {
      "text/plain": [
       "dtype('int64')"
      ]
     },
     "execution_count": 16,
     "metadata": {},
     "output_type": "execute_result"
    }
   ],
   "source": [
    "s1.dtype"
   ]
  },
  {
   "cell_type": "code",
   "execution_count": 17,
   "metadata": {
    "collapsed": false
   },
   "outputs": [
    {
     "data": {
      "text/plain": [
       "array([  1,   8,  27,  64, 125])"
      ]
     },
     "execution_count": 17,
     "metadata": {},
     "output_type": "execute_result"
    }
   ],
   "source": [
    "s2[2]"
   ]
  },
  {
   "cell_type": "code",
   "execution_count": 18,
   "metadata": {
    "collapsed": false
   },
   "outputs": [
    {
     "data": {
      "text/plain": [
       "array([[  1,   4,   9,  16,  25],\n",
       "       [  1,   8,  27,  64, 125]])"
      ]
     },
     "execution_count": 18,
     "metadata": {},
     "output_type": "execute_result"
    }
   ],
   "source": [
    "s2[1:]"
   ]
  },
  {
   "cell_type": "code",
   "execution_count": 19,
   "metadata": {
    "collapsed": false
   },
   "outputs": [
    {
     "data": {
      "text/plain": [
       "16"
      ]
     },
     "execution_count": 19,
     "metadata": {},
     "output_type": "execute_result"
    }
   ],
   "source": [
    "s2[1,3] # fancy indexing"
   ]
  },
  {
   "cell_type": "code",
   "execution_count": 20,
   "metadata": {
    "collapsed": false
   },
   "outputs": [
    {
     "data": {
      "text/plain": [
       "array([[  1,   2,   3,   4,   5],\n",
       "       [  1,   4,   9,  16,  25],\n",
       "       [  1,   8,  27,  64, 125]])"
      ]
     },
     "execution_count": 20,
     "metadata": {},
     "output_type": "execute_result"
    }
   ],
   "source": [
    "s2"
   ]
  },
  {
   "cell_type": "markdown",
   "metadata": {},
   "source": [
    "<img width=600 src=numpy.png>"
   ]
  },
  {
   "cell_type": "code",
   "execution_count": 21,
   "metadata": {
    "collapsed": false
   },
   "outputs": [
    {
     "data": {
      "text/plain": [
       "array([[ 9, 16],\n",
       "       [27, 64]])"
      ]
     },
     "execution_count": 21,
     "metadata": {},
     "output_type": "execute_result"
    }
   ],
   "source": [
    "s2[1:, 2:4]"
   ]
  },
  {
   "cell_type": "code",
   "execution_count": 22,
   "metadata": {
    "collapsed": false
   },
   "outputs": [
    {
     "data": {
      "text/plain": [
       "64"
      ]
     },
     "execution_count": 22,
     "metadata": {},
     "output_type": "execute_result"
    }
   ],
   "source": [
    "s2[2][3]"
   ]
  },
  {
   "cell_type": "code",
   "execution_count": 23,
   "metadata": {
    "collapsed": false
   },
   "outputs": [
    {
     "data": {
      "text/plain": [
       "64"
      ]
     },
     "execution_count": 23,
     "metadata": {},
     "output_type": "execute_result"
    }
   ],
   "source": [
    "s2[2,3]"
   ]
  },
  {
   "cell_type": "code",
   "execution_count": 24,
   "metadata": {
    "collapsed": false
   },
   "outputs": [
    {
     "data": {
      "text/plain": [
       "array([  1, 200,   9,  99,  25])"
      ]
     },
     "execution_count": 24,
     "metadata": {},
     "output_type": "execute_result"
    }
   ],
   "source": [
    "s1"
   ]
  },
  {
   "cell_type": "code",
   "execution_count": 25,
   "metadata": {
    "collapsed": false
   },
   "outputs": [
    {
     "data": {
      "text/plain": [
       "array([[  1,   2,   3,   4,   5],\n",
       "       [  1,   4,   9,  16,  25],\n",
       "       [  1,   8,  27,  64, 125]])"
      ]
     },
     "execution_count": 25,
     "metadata": {},
     "output_type": "execute_result"
    }
   ],
   "source": [
    "s2"
   ]
  },
  {
   "cell_type": "code",
   "execution_count": 26,
   "metadata": {
    "collapsed": false
   },
   "outputs": [
    {
     "data": {
      "text/plain": [
       "array([[  2, 202,  12, 103,  30],\n",
       "       [  2, 204,  18, 115,  50],\n",
       "       [  2, 208,  36, 163, 150]])"
      ]
     },
     "execution_count": 26,
     "metadata": {},
     "output_type": "execute_result"
    }
   ],
   "source": [
    "s1 + s2 # s1 will be broadcast and added to each \"row\" in s2"
   ]
  },
  {
   "cell_type": "markdown",
   "metadata": {},
   "source": [
    "Numpy Exercise\n",
    "--------------\n",
    "\n",
    "Broadcasting, element-wise operations, slices, and ranges:\n",
    "\n",
    "1. Add `s1` and `s2` to observe broadcasting.\n",
    "\n",
    "2. Get the second value from `s1`.\n",
    "\n",
    "3. Get the third row from `s2`.\n",
    "\n",
    "4. Get the second column from `s2`.\n",
    "\n",
    "5. Generate a range of values from 1 to 20 in 0.5 step increments.\n",
    "\n",
    "6. Generate a range of values from 5 to 30 with a total of 50 entries.\n",
    "\n",
    "7. Use the `np.log10()` function to get the log values of these two ranges (from 5 and 6)., then plot them on the same graph. HINT: Use the lecture note example as a template.\n",
    "\n",
    "8. Use `np.sin()` to create an `ndarray` of 2 periods and 1000 data points.\n",
    "\n",
    "9. Use `numpy.random.randn()` to generate an `ndarray` of noise with 1000 data points (normally distributed). The normal distribution of the noise should have a median of `A0` (your choice, keep it single digits), and a standard deviation $10%$ of the sine wave amplitude. Add these together into a new `ndarray`. Calculate the mean value of this new `ndarray`. BONUS: Plot all three arrays overlayed on the same graph, using different colors and lines, and include a legend."
   ]
  },
  {
   "cell_type": "code",
   "execution_count": 27,
   "metadata": {
    "collapsed": false
   },
   "outputs": [
    {
     "data": {
      "text/plain": [
       "array([[False, False, False, False, False],\n",
       "       [False, False, False,  True,  True],\n",
       "       [False, False,  True,  True,  True]], dtype=bool)"
      ]
     },
     "execution_count": 27,
     "metadata": {},
     "output_type": "execute_result"
    }
   ],
   "source": [
    "s2 > 10 # boolean selection array"
   ]
  },
  {
   "cell_type": "code",
   "execution_count": 28,
   "metadata": {
    "collapsed": false
   },
   "outputs": [
    {
     "data": {
      "text/plain": [
       "array([200,  99,  25])"
      ]
     },
     "execution_count": 28,
     "metadata": {},
     "output_type": "execute_result"
    }
   ],
   "source": [
    "s1[s1>10] # fancy indexing using boolean selection array"
   ]
  },
  {
   "cell_type": "code",
   "execution_count": 29,
   "metadata": {
    "collapsed": false
   },
   "outputs": [
    {
     "data": {
      "text/plain": [
       "array([False,  True, False,  True,  True], dtype=bool)"
      ]
     },
     "execution_count": 29,
     "metadata": {},
     "output_type": "execute_result"
    }
   ],
   "source": [
    "s1 > 10"
   ]
  },
  {
   "cell_type": "code",
   "execution_count": 30,
   "metadata": {
    "collapsed": false
   },
   "outputs": [
    {
     "data": {
      "text/plain": [
       "array([[  1,   2,   3,   4,   5],\n",
       "       [  1,   4,   9,  16,  25],\n",
       "       [  1,   8,  27,  64, 125]])"
      ]
     },
     "execution_count": 30,
     "metadata": {},
     "output_type": "execute_result"
    }
   ],
   "source": [
    "s2"
   ]
  },
  {
   "cell_type": "code",
   "execution_count": 31,
   "metadata": {
    "collapsed": false
   },
   "outputs": [
    {
     "data": {
      "text/plain": [
       "array([  1,   1,   9,  25,   1,  27, 125])"
      ]
     },
     "execution_count": 31,
     "metadata": {},
     "output_type": "execute_result"
    }
   ],
   "source": [
    "s2[s2 >= s1]"
   ]
  },
  {
   "cell_type": "code",
   "execution_count": 33,
   "metadata": {
    "collapsed": false
   },
   "outputs": [
    {
     "data": {
      "text/plain": [
       "array([-2,  5, -2,  5,  5])"
      ]
     },
     "execution_count": 33,
     "metadata": {},
     "output_type": "execute_result"
    }
   ],
   "source": [
    "np.where(s1 > 10, 5, -2) # vectorized conditional"
   ]
  },
  {
   "cell_type": "code",
   "execution_count": 34,
   "metadata": {
    "collapsed": false
   },
   "outputs": [
    {
     "data": {
      "text/plain": [
       "array([  1, 200,   9,  99,  25])"
      ]
     },
     "execution_count": 34,
     "metadata": {},
     "output_type": "execute_result"
    }
   ],
   "source": [
    "s1"
   ]
  },
  {
   "cell_type": "code",
   "execution_count": 35,
   "metadata": {
    "collapsed": false
   },
   "outputs": [
    {
     "data": {
      "text/plain": [
       "array(['small', 'big', 'small', 'big', 'big'], \n",
       "      dtype='|S5')"
      ]
     },
     "execution_count": 35,
     "metadata": {},
     "output_type": "execute_result"
    }
   ],
   "source": [
    "np.where(s1 > 10, 'big', 'small')"
   ]
  },
  {
   "cell_type": "code",
   "execution_count": 36,
   "metadata": {
    "collapsed": false
   },
   "outputs": [
    {
     "data": {
      "text/plain": [
       "array([['odd', 'even', 'odd', 'even', 'odd'],\n",
       "       ['odd', 'even', 'odd', 'even', 'odd'],\n",
       "       ['odd', 'even', 'odd', 'even', 'odd']], \n",
       "      dtype='|S4')"
      ]
     },
     "execution_count": 36,
     "metadata": {},
     "output_type": "execute_result"
    }
   ],
   "source": [
    "np.where(s2 % 2 == 0, 'even', 'odd')"
   ]
  },
  {
   "cell_type": "code",
   "execution_count": 37,
   "metadata": {
    "collapsed": false
   },
   "outputs": [
    {
     "data": {
      "text/plain": [
       "array([[ 1,  2,  3,  4,  5],\n",
       "       [ 1,  4,  9, 10, 10],\n",
       "       [ 1,  8, 10, 10, 10]])"
      ]
     },
     "execution_count": 37,
     "metadata": {},
     "output_type": "execute_result"
    }
   ],
   "source": [
    "np.where(s2 > 10, 10, s2)"
   ]
  },
  {
   "cell_type": "markdown",
   "metadata": {},
   "source": [
    "Pandas\n",
    "======\n",
    "Adapted from Jeff Reback's PyData New York (Nov 2015) tutorial: https://github.com/jreback/PyDataNYC2015\n",
    "\n",
    "Pandas is enormously popular because:\n",
    "* Amazing data input/output capabilities\n",
    "* Powerful API on top of NumPy `ndarray` data structure\n",
    "  * lots of great methods that auto-magically do the right thing\n",
    "* Analog to R DataFrame\n",
    "* Looks like a matrix when you need it to\n",
    "* Looks like a database table when you need it to"
   ]
  },
  {
   "cell_type": "markdown",
   "metadata": {},
   "source": [
    "Supported data formats:\n",
    "- CSV\n",
    "- Excel\n",
    "- SQL\n",
    "- JSON\n",
    "- HDF5\n",
    "- pickle\n",
    "- msgpack\n",
    "- Stata\n",
    "- BigQuery"
   ]
  },
  {
   "cell_type": "code",
   "execution_count": 38,
   "metadata": {
    "collapsed": false
   },
   "outputs": [
    {
     "data": {
      "text/plain": [
       "u'0.18.1'"
      ]
     },
     "execution_count": 38,
     "metadata": {},
     "output_type": "execute_result"
    }
   ],
   "source": [
    "import sys\n",
    "import numpy as np\n",
    "import pandas as pd\n",
    "\n",
    "pd.options.display.max_rows = 20\n",
    "pd.options.display.max_columns = 15\n",
    "pd.__version__"
   ]
  },
  {
   "cell_type": "code",
   "execution_count": 39,
   "metadata": {
    "collapsed": true
   },
   "outputs": [],
   "source": [
    "import sys"
   ]
  },
  {
   "cell_type": "code",
   "execution_count": 40,
   "metadata": {
    "collapsed": false
   },
   "outputs": [
    {
     "data": {
      "text/plain": [
       "['',\n",
       " '/Users/ijstokes/anaconda/envs/ana42py27/lib/python27.zip',\n",
       " '/Users/ijstokes/anaconda/envs/ana42py27/lib/python2.7',\n",
       " '/Users/ijstokes/anaconda/envs/ana42py27/lib/python2.7/plat-darwin',\n",
       " '/Users/ijstokes/anaconda/envs/ana42py27/lib/python2.7/plat-mac',\n",
       " '/Users/ijstokes/anaconda/envs/ana42py27/lib/python2.7/plat-mac/lib-scriptpackages',\n",
       " '/Users/ijstokes/anaconda/envs/ana42py27/lib/python2.7/lib-tk',\n",
       " '/Users/ijstokes/anaconda/envs/ana42py27/lib/python2.7/lib-old',\n",
       " '/Users/ijstokes/anaconda/envs/ana42py27/lib/python2.7/lib-dynload',\n",
       " '/Users/ijstokes/anaconda/envs/ana42py27/lib/python2.7/site-packages',\n",
       " '/Users/ijstokes/anaconda/envs/ana42py27/lib/python2.7/site-packages/Sphinx-1.4.6-py2.7.egg',\n",
       " '/Users/ijstokes/anaconda/envs/ana42py27/lib/python2.7/site-packages/aeosa',\n",
       " '/Users/ijstokes/anaconda/envs/ana42py27/lib/python2.7/site-packages/setuptools-27.2.0-py2.7.egg',\n",
       " '/Users/ijstokes/anaconda/envs/ana42py27/lib/python2.7/site-packages/IPython/extensions',\n",
       " '/Users/ijstokes/.ipython']"
      ]
     },
     "execution_count": 40,
     "metadata": {},
     "output_type": "execute_result"
    }
   ],
   "source": [
    "sys.path"
   ]
  },
  {
   "cell_type": "code",
   "execution_count": 41,
   "metadata": {
    "collapsed": false
   },
   "outputs": [],
   "source": [
    "sitepkgs = '/Users/ijstokes/anaconda/envs/ana42py27/lib/python2.7/site-packages'\n",
    "testfile = '/pandas/io/tests/parser/data/utf16_ex.txt'\n",
    "altfile  = '/pandas/io/tests/data/utf16_ex.txt'"
   ]
  },
  {
   "cell_type": "code",
   "execution_count": 42,
   "metadata": {
    "collapsed": false
   },
   "outputs": [],
   "source": [
    "data = pd.read_csv(sitepkgs + testfile,\n",
    "                   sep='\\t', encoding='utf-16', parse_dates=['Date'])"
   ]
  },
  {
   "cell_type": "code",
   "execution_count": 43,
   "metadata": {
    "collapsed": false
   },
   "outputs": [
    {
     "data": {
      "text/html": [
       "<div>\n",
       "<table border=\"1\" class=\"dataframe\">\n",
       "  <thead>\n",
       "    <tr style=\"text-align: right;\">\n",
       "      <th></th>\n",
       "      <th>Country</th>\n",
       "      <th>State/City</th>\n",
       "      <th>Title</th>\n",
       "      <th>Date</th>\n",
       "      <th>Catalogue</th>\n",
       "      <th>Wikipedia Election Page</th>\n",
       "      <th>Wikipedia Individual Page</th>\n",
       "      <th>Electoral Institution in Country</th>\n",
       "      <th>Twitter</th>\n",
       "      <th>CANDIDATE NAME 1</th>\n",
       "      <th>CANDIDATE NAME 2</th>\n",
       "    </tr>\n",
       "  </thead>\n",
       "  <tbody>\n",
       "    <tr>\n",
       "      <th>0</th>\n",
       "      <td>Venezuela</td>\n",
       "      <td>NaN</td>\n",
       "      <td>President</td>\n",
       "      <td>2012-10-07</td>\n",
       "      <td>Hugo Rafael Chavez Frias</td>\n",
       "      <td>Hugo Chávez</td>\n",
       "      <td>Hugo Chávez</td>\n",
       "      <td>Hugo Chavez</td>\n",
       "      <td>Hugo Chávez Frías</td>\n",
       "      <td>Hugo Chavez</td>\n",
       "      <td>Hugo Chávez</td>\n",
       "    </tr>\n",
       "    <tr>\n",
       "      <th>1</th>\n",
       "      <td>Venezuela</td>\n",
       "      <td>NaN</td>\n",
       "      <td>President</td>\n",
       "      <td>2012-10-07</td>\n",
       "      <td>Henrique Capriles Radonski</td>\n",
       "      <td>Henrique Capriles Radonski</td>\n",
       "      <td>Henrique Capriles Radonski</td>\n",
       "      <td>Henrique Capriles Radonski</td>\n",
       "      <td>Henrique Capriles R.</td>\n",
       "      <td>Henrique Capriles</td>\n",
       "      <td>NaN</td>\n",
       "    </tr>\n",
       "    <tr>\n",
       "      <th>2</th>\n",
       "      <td>Venezuela</td>\n",
       "      <td>NaN</td>\n",
       "      <td>President</td>\n",
       "      <td>2012-10-07</td>\n",
       "      <td>Maria Josefina Bolivar</td>\n",
       "      <td>María Bolívar</td>\n",
       "      <td>María Bolívar</td>\n",
       "      <td>Maria Bolivar</td>\n",
       "      <td>Maria Bolivar</td>\n",
       "      <td>Maria Bolivar</td>\n",
       "      <td>María Bolívar</td>\n",
       "    </tr>\n",
       "    <tr>\n",
       "      <th>3</th>\n",
       "      <td>Venezuela</td>\n",
       "      <td>NaN</td>\n",
       "      <td>President</td>\n",
       "      <td>2012-10-07</td>\n",
       "      <td>Orlando Chirino</td>\n",
       "      <td>Orlando Chirinos</td>\n",
       "      <td>None.</td>\n",
       "      <td>Orlando Chirino</td>\n",
       "      <td>Orlando Chirino</td>\n",
       "      <td>Orlando Chirino</td>\n",
       "      <td>NaN</td>\n",
       "    </tr>\n",
       "    <tr>\n",
       "      <th>4</th>\n",
       "      <td>Venezuela</td>\n",
       "      <td>NaN</td>\n",
       "      <td>President</td>\n",
       "      <td>2012-10-07</td>\n",
       "      <td>Luis Reyes</td>\n",
       "      <td>Luis Reyes Castillo</td>\n",
       "      <td>None.</td>\n",
       "      <td>Luis Reyes</td>\n",
       "      <td>Luis Reyes</td>\n",
       "      <td>Luis Reyes</td>\n",
       "      <td>NaN</td>\n",
       "    </tr>\n",
       "    <tr>\n",
       "      <th>5</th>\n",
       "      <td>Venezuela</td>\n",
       "      <td>NaN</td>\n",
       "      <td>President</td>\n",
       "      <td>2012-10-07</td>\n",
       "      <td>Reina Sequera</td>\n",
       "      <td>Reina Sequera</td>\n",
       "      <td>Reina Sequera</td>\n",
       "      <td>Reina Sequera</td>\n",
       "      <td>Reina Sequera</td>\n",
       "      <td>Reina Sequera</td>\n",
       "      <td>NaN</td>\n",
       "    </tr>\n",
       "    <tr>\n",
       "      <th>6</th>\n",
       "      <td>Chile</td>\n",
       "      <td>Santiago</td>\n",
       "      <td>Mayor</td>\n",
       "      <td>2012-10-28</td>\n",
       "      <td>Carolina Montserrat Toha Morales</td>\n",
       "      <td>Carolina Tohá Morales</td>\n",
       "      <td>Carolina Tohá</td>\n",
       "      <td>Carolina Toha Morales</td>\n",
       "      <td>Carolina Tohá</td>\n",
       "      <td>Carolina Tohá</td>\n",
       "      <td>Carolina Toha</td>\n",
       "    </tr>\n",
       "    <tr>\n",
       "      <th>7</th>\n",
       "      <td>Chile</td>\n",
       "      <td>Santiago</td>\n",
       "      <td>Mayor</td>\n",
       "      <td>2012-10-29</td>\n",
       "      <td>Pablo Zalaquett Said</td>\n",
       "      <td>Pablo Zalaquett Said</td>\n",
       "      <td>Pablo Zalaquett</td>\n",
       "      <td>Pablo Zalaquett Said</td>\n",
       "      <td>Pablo Zalaquett Said</td>\n",
       "      <td>Pablo Zalaquett</td>\n",
       "      <td>NaN</td>\n",
       "    </tr>\n",
       "    <tr>\n",
       "      <th>8</th>\n",
       "      <td>Chile</td>\n",
       "      <td>Santiago</td>\n",
       "      <td>Mayor</td>\n",
       "      <td>2012-10-30</td>\n",
       "      <td>Waldo Mora Longa</td>\n",
       "      <td>Waldo Mora Longa</td>\n",
       "      <td>None.</td>\n",
       "      <td>Waldo Mora Longa</td>\n",
       "      <td>Waldo Mora L.</td>\n",
       "      <td>Waldo Mora</td>\n",
       "      <td>NaN</td>\n",
       "    </tr>\n",
       "    <tr>\n",
       "      <th>9</th>\n",
       "      <td>Chile</td>\n",
       "      <td>Santiago</td>\n",
       "      <td>Mayor</td>\n",
       "      <td>2012-10-31</td>\n",
       "      <td>Mario Aguilar</td>\n",
       "      <td>Mario Aguilar Arevalo</td>\n",
       "      <td>None.</td>\n",
       "      <td>Mario Aguilar Arevalo</td>\n",
       "      <td>Mario Aguilar</td>\n",
       "      <td>Mario Aguilar</td>\n",
       "      <td>NaN</td>\n",
       "    </tr>\n",
       "    <tr>\n",
       "      <th>...</th>\n",
       "      <td>...</td>\n",
       "      <td>...</td>\n",
       "      <td>...</td>\n",
       "      <td>...</td>\n",
       "      <td>...</td>\n",
       "      <td>...</td>\n",
       "      <td>...</td>\n",
       "      <td>...</td>\n",
       "      <td>...</td>\n",
       "      <td>...</td>\n",
       "      <td>...</td>\n",
       "    </tr>\n",
       "    <tr>\n",
       "      <th>40</th>\n",
       "      <td>Ecuador</td>\n",
       "      <td>NaN</td>\n",
       "      <td>President</td>\n",
       "      <td>2013-02-07</td>\n",
       "      <td>Alberto Acosta Espinosa</td>\n",
       "      <td>Alberto Acosta Espinosa</td>\n",
       "      <td>Alberto Acosta Espinosa</td>\n",
       "      <td>Alberto Acosta</td>\n",
       "      <td>Alberto Acosta</td>\n",
       "      <td>Alberto Acosta</td>\n",
       "      <td>NaN</td>\n",
       "    </tr>\n",
       "    <tr>\n",
       "      <th>41</th>\n",
       "      <td>Ecuador</td>\n",
       "      <td>NaN</td>\n",
       "      <td>President</td>\n",
       "      <td>2013-02-07</td>\n",
       "      <td>Mauricio Rodas Espinel</td>\n",
       "      <td>Mauricio Rodas</td>\n",
       "      <td>Mauricio Rodas</td>\n",
       "      <td>Mauricio Rodas</td>\n",
       "      <td>Mauricio Rodas</td>\n",
       "      <td>Mauricio Rodas</td>\n",
       "      <td>NaN</td>\n",
       "    </tr>\n",
       "    <tr>\n",
       "      <th>42</th>\n",
       "      <td>Ecuador</td>\n",
       "      <td>NaN</td>\n",
       "      <td>President</td>\n",
       "      <td>2013-02-07</td>\n",
       "      <td>Norman Wray</td>\n",
       "      <td>Norman Wray</td>\n",
       "      <td>None.</td>\n",
       "      <td>Norman Wray</td>\n",
       "      <td>Norman Wray</td>\n",
       "      <td>Norman Wray</td>\n",
       "      <td>NaN</td>\n",
       "    </tr>\n",
       "    <tr>\n",
       "      <th>43</th>\n",
       "      <td>NaN</td>\n",
       "      <td>NaN</td>\n",
       "      <td>NaN</td>\n",
       "      <td>NaT</td>\n",
       "      <td>NaN</td>\n",
       "      <td>NaN</td>\n",
       "      <td>NaN</td>\n",
       "      <td>NaN</td>\n",
       "      <td>NaN</td>\n",
       "      <td>NaN</td>\n",
       "      <td>NaN</td>\n",
       "    </tr>\n",
       "    <tr>\n",
       "      <th>44</th>\n",
       "      <td>NaN</td>\n",
       "      <td>NaN</td>\n",
       "      <td>NaN</td>\n",
       "      <td>NaT</td>\n",
       "      <td>NaN</td>\n",
       "      <td>NaN</td>\n",
       "      <td>NaN</td>\n",
       "      <td>NaN</td>\n",
       "      <td>NaN</td>\n",
       "      <td>NaN</td>\n",
       "      <td>NaN</td>\n",
       "    </tr>\n",
       "    <tr>\n",
       "      <th>45</th>\n",
       "      <td>NaN</td>\n",
       "      <td>NaN</td>\n",
       "      <td>NaN</td>\n",
       "      <td>NaT</td>\n",
       "      <td>NaN</td>\n",
       "      <td>NaN</td>\n",
       "      <td>NaN</td>\n",
       "      <td>NaN</td>\n",
       "      <td>NaN</td>\n",
       "      <td>NaN</td>\n",
       "      <td>NaN</td>\n",
       "    </tr>\n",
       "    <tr>\n",
       "      <th>46</th>\n",
       "      <td>NaN</td>\n",
       "      <td>NaN</td>\n",
       "      <td>NaN</td>\n",
       "      <td>NaT</td>\n",
       "      <td>NaN</td>\n",
       "      <td>NaN</td>\n",
       "      <td>NaN</td>\n",
       "      <td>NaN</td>\n",
       "      <td>NaN</td>\n",
       "      <td>NaN</td>\n",
       "      <td>NaN</td>\n",
       "    </tr>\n",
       "    <tr>\n",
       "      <th>47</th>\n",
       "      <td>NaN</td>\n",
       "      <td>NaN</td>\n",
       "      <td>NaN</td>\n",
       "      <td>NaT</td>\n",
       "      <td>NaN</td>\n",
       "      <td>NaN</td>\n",
       "      <td>NaN</td>\n",
       "      <td>NaN</td>\n",
       "      <td>NaN</td>\n",
       "      <td>NaN</td>\n",
       "      <td>NaN</td>\n",
       "    </tr>\n",
       "    <tr>\n",
       "      <th>48</th>\n",
       "      <td>NaN</td>\n",
       "      <td>NaN</td>\n",
       "      <td>NaN</td>\n",
       "      <td>NaT</td>\n",
       "      <td>NaN</td>\n",
       "      <td>NaN</td>\n",
       "      <td>NaN</td>\n",
       "      <td>NaN</td>\n",
       "      <td>NaN</td>\n",
       "      <td>NaN</td>\n",
       "      <td>NaN</td>\n",
       "    </tr>\n",
       "    <tr>\n",
       "      <th>49</th>\n",
       "      <td>NaN</td>\n",
       "      <td>NaN</td>\n",
       "      <td>NaN</td>\n",
       "      <td>NaT</td>\n",
       "      <td>NaN</td>\n",
       "      <td>NaN</td>\n",
       "      <td>NaN</td>\n",
       "      <td>NaN</td>\n",
       "      <td>NaN</td>\n",
       "      <td>NaN</td>\n",
       "      <td>NaN</td>\n",
       "    </tr>\n",
       "  </tbody>\n",
       "</table>\n",
       "<p>50 rows × 11 columns</p>\n",
       "</div>"
      ],
      "text/plain": [
       "      Country State/City      Title       Date  \\\n",
       "0   Venezuela        NaN  President 2012-10-07   \n",
       "1   Venezuela        NaN  President 2012-10-07   \n",
       "2   Venezuela        NaN  President 2012-10-07   \n",
       "3   Venezuela        NaN  President 2012-10-07   \n",
       "4   Venezuela        NaN  President 2012-10-07   \n",
       "5   Venezuela        NaN  President 2012-10-07   \n",
       "6       Chile   Santiago      Mayor 2012-10-28   \n",
       "7       Chile   Santiago      Mayor 2012-10-29   \n",
       "8       Chile   Santiago      Mayor 2012-10-30   \n",
       "9       Chile   Santiago      Mayor 2012-10-31   \n",
       "..        ...        ...        ...        ...   \n",
       "40    Ecuador        NaN  President 2013-02-07   \n",
       "41    Ecuador        NaN  President 2013-02-07   \n",
       "42    Ecuador        NaN  President 2013-02-07   \n",
       "43        NaN        NaN        NaN        NaT   \n",
       "44        NaN        NaN        NaN        NaT   \n",
       "45        NaN        NaN        NaN        NaT   \n",
       "46        NaN        NaN        NaN        NaT   \n",
       "47        NaN        NaN        NaN        NaT   \n",
       "48        NaN        NaN        NaN        NaT   \n",
       "49        NaN        NaN        NaN        NaT   \n",
       "\n",
       "                           Catalogue     Wikipedia Election Page  \\\n",
       "0           Hugo Rafael Chavez Frias                 Hugo Chávez   \n",
       "1         Henrique Capriles Radonski  Henrique Capriles Radonski   \n",
       "2             Maria Josefina Bolivar               María Bolívar   \n",
       "3                    Orlando Chirino            Orlando Chirinos   \n",
       "4                         Luis Reyes         Luis Reyes Castillo   \n",
       "5                      Reina Sequera               Reina Sequera   \n",
       "6   Carolina Montserrat Toha Morales       Carolina Tohá Morales   \n",
       "7               Pablo Zalaquett Said        Pablo Zalaquett Said   \n",
       "8                   Waldo Mora Longa            Waldo Mora Longa   \n",
       "9                      Mario Aguilar       Mario Aguilar Arevalo   \n",
       "..                               ...                         ...   \n",
       "40           Alberto Acosta Espinosa     Alberto Acosta Espinosa   \n",
       "41            Mauricio Rodas Espinel              Mauricio Rodas   \n",
       "42                       Norman Wray                 Norman Wray   \n",
       "43                               NaN                         NaN   \n",
       "44                               NaN                         NaN   \n",
       "45                               NaN                         NaN   \n",
       "46                               NaN                         NaN   \n",
       "47                               NaN                         NaN   \n",
       "48                               NaN                         NaN   \n",
       "49                               NaN                         NaN   \n",
       "\n",
       "     Wikipedia Individual Page Electoral Institution in Country  \\\n",
       "0                  Hugo Chávez                      Hugo Chavez   \n",
       "1   Henrique Capriles Radonski       Henrique Capriles Radonski   \n",
       "2                María Bolívar                    Maria Bolivar   \n",
       "3                        None.                  Orlando Chirino   \n",
       "4                        None.                       Luis Reyes   \n",
       "5                Reina Sequera                    Reina Sequera   \n",
       "6                Carolina Tohá            Carolina Toha Morales   \n",
       "7              Pablo Zalaquett             Pablo Zalaquett Said   \n",
       "8                        None.                 Waldo Mora Longa   \n",
       "9                        None.            Mario Aguilar Arevalo   \n",
       "..                         ...                              ...   \n",
       "40     Alberto Acosta Espinosa                   Alberto Acosta   \n",
       "41              Mauricio Rodas                   Mauricio Rodas   \n",
       "42                       None.                      Norman Wray   \n",
       "43                         NaN                              NaN   \n",
       "44                         NaN                              NaN   \n",
       "45                         NaN                              NaN   \n",
       "46                         NaN                              NaN   \n",
       "47                         NaN                              NaN   \n",
       "48                         NaN                              NaN   \n",
       "49                         NaN                              NaN   \n",
       "\n",
       "                 Twitter   CANDIDATE NAME 1 CANDIDATE NAME 2  \n",
       "0      Hugo Chávez Frías        Hugo Chavez      Hugo Chávez  \n",
       "1   Henrique Capriles R.  Henrique Capriles              NaN  \n",
       "2          Maria Bolivar      Maria Bolivar    María Bolívar  \n",
       "3        Orlando Chirino    Orlando Chirino              NaN  \n",
       "4             Luis Reyes         Luis Reyes              NaN  \n",
       "5          Reina Sequera      Reina Sequera              NaN  \n",
       "6          Carolina Tohá      Carolina Tohá    Carolina Toha  \n",
       "7   Pablo Zalaquett Said    Pablo Zalaquett              NaN  \n",
       "8          Waldo Mora L.         Waldo Mora              NaN  \n",
       "9          Mario Aguilar      Mario Aguilar              NaN  \n",
       "..                   ...                ...              ...  \n",
       "40        Alberto Acosta     Alberto Acosta              NaN  \n",
       "41        Mauricio Rodas     Mauricio Rodas              NaN  \n",
       "42           Norman Wray        Norman Wray              NaN  \n",
       "43                   NaN                NaN              NaN  \n",
       "44                   NaN                NaN              NaN  \n",
       "45                   NaN                NaN              NaN  \n",
       "46                   NaN                NaN              NaN  \n",
       "47                   NaN                NaN              NaN  \n",
       "48                   NaN                NaN              NaN  \n",
       "49                   NaN                NaN              NaN  \n",
       "\n",
       "[50 rows x 11 columns]"
      ]
     },
     "execution_count": 43,
     "metadata": {},
     "output_type": "execute_result"
    }
   ],
   "source": [
    "data"
   ]
  },
  {
   "cell_type": "code",
   "execution_count": 44,
   "metadata": {
    "collapsed": true
   },
   "outputs": [],
   "source": [
    "data.dropna(subset=['Country', 'Date', 'Title'], inplace=True)"
   ]
  },
  {
   "cell_type": "code",
   "execution_count": 45,
   "metadata": {
    "collapsed": false
   },
   "outputs": [
    {
     "data": {
      "text/html": [
       "<div>\n",
       "<table border=\"1\" class=\"dataframe\">\n",
       "  <thead>\n",
       "    <tr style=\"text-align: right;\">\n",
       "      <th></th>\n",
       "      <th>Country</th>\n",
       "      <th>State/City</th>\n",
       "      <th>Title</th>\n",
       "      <th>Date</th>\n",
       "      <th>Catalogue</th>\n",
       "      <th>Wikipedia Election Page</th>\n",
       "      <th>Wikipedia Individual Page</th>\n",
       "      <th>Electoral Institution in Country</th>\n",
       "      <th>Twitter</th>\n",
       "      <th>CANDIDATE NAME 1</th>\n",
       "      <th>CANDIDATE NAME 2</th>\n",
       "    </tr>\n",
       "  </thead>\n",
       "  <tbody>\n",
       "    <tr>\n",
       "      <th>0</th>\n",
       "      <td>Venezuela</td>\n",
       "      <td>NaN</td>\n",
       "      <td>President</td>\n",
       "      <td>2012-10-07</td>\n",
       "      <td>Hugo Rafael Chavez Frias</td>\n",
       "      <td>Hugo Chávez</td>\n",
       "      <td>Hugo Chávez</td>\n",
       "      <td>Hugo Chavez</td>\n",
       "      <td>Hugo Chávez Frías</td>\n",
       "      <td>Hugo Chavez</td>\n",
       "      <td>Hugo Chávez</td>\n",
       "    </tr>\n",
       "    <tr>\n",
       "      <th>1</th>\n",
       "      <td>Venezuela</td>\n",
       "      <td>NaN</td>\n",
       "      <td>President</td>\n",
       "      <td>2012-10-07</td>\n",
       "      <td>Henrique Capriles Radonski</td>\n",
       "      <td>Henrique Capriles Radonski</td>\n",
       "      <td>Henrique Capriles Radonski</td>\n",
       "      <td>Henrique Capriles Radonski</td>\n",
       "      <td>Henrique Capriles R.</td>\n",
       "      <td>Henrique Capriles</td>\n",
       "      <td>NaN</td>\n",
       "    </tr>\n",
       "    <tr>\n",
       "      <th>2</th>\n",
       "      <td>Venezuela</td>\n",
       "      <td>NaN</td>\n",
       "      <td>President</td>\n",
       "      <td>2012-10-07</td>\n",
       "      <td>Maria Josefina Bolivar</td>\n",
       "      <td>María Bolívar</td>\n",
       "      <td>María Bolívar</td>\n",
       "      <td>Maria Bolivar</td>\n",
       "      <td>Maria Bolivar</td>\n",
       "      <td>Maria Bolivar</td>\n",
       "      <td>María Bolívar</td>\n",
       "    </tr>\n",
       "    <tr>\n",
       "      <th>3</th>\n",
       "      <td>Venezuela</td>\n",
       "      <td>NaN</td>\n",
       "      <td>President</td>\n",
       "      <td>2012-10-07</td>\n",
       "      <td>Orlando Chirino</td>\n",
       "      <td>Orlando Chirinos</td>\n",
       "      <td>None.</td>\n",
       "      <td>Orlando Chirino</td>\n",
       "      <td>Orlando Chirino</td>\n",
       "      <td>Orlando Chirino</td>\n",
       "      <td>NaN</td>\n",
       "    </tr>\n",
       "    <tr>\n",
       "      <th>4</th>\n",
       "      <td>Venezuela</td>\n",
       "      <td>NaN</td>\n",
       "      <td>President</td>\n",
       "      <td>2012-10-07</td>\n",
       "      <td>Luis Reyes</td>\n",
       "      <td>Luis Reyes Castillo</td>\n",
       "      <td>None.</td>\n",
       "      <td>Luis Reyes</td>\n",
       "      <td>Luis Reyes</td>\n",
       "      <td>Luis Reyes</td>\n",
       "      <td>NaN</td>\n",
       "    </tr>\n",
       "    <tr>\n",
       "      <th>5</th>\n",
       "      <td>Venezuela</td>\n",
       "      <td>NaN</td>\n",
       "      <td>President</td>\n",
       "      <td>2012-10-07</td>\n",
       "      <td>Reina Sequera</td>\n",
       "      <td>Reina Sequera</td>\n",
       "      <td>Reina Sequera</td>\n",
       "      <td>Reina Sequera</td>\n",
       "      <td>Reina Sequera</td>\n",
       "      <td>Reina Sequera</td>\n",
       "      <td>NaN</td>\n",
       "    </tr>\n",
       "    <tr>\n",
       "      <th>6</th>\n",
       "      <td>Chile</td>\n",
       "      <td>Santiago</td>\n",
       "      <td>Mayor</td>\n",
       "      <td>2012-10-28</td>\n",
       "      <td>Carolina Montserrat Toha Morales</td>\n",
       "      <td>Carolina Tohá Morales</td>\n",
       "      <td>Carolina Tohá</td>\n",
       "      <td>Carolina Toha Morales</td>\n",
       "      <td>Carolina Tohá</td>\n",
       "      <td>Carolina Tohá</td>\n",
       "      <td>Carolina Toha</td>\n",
       "    </tr>\n",
       "    <tr>\n",
       "      <th>7</th>\n",
       "      <td>Chile</td>\n",
       "      <td>Santiago</td>\n",
       "      <td>Mayor</td>\n",
       "      <td>2012-10-29</td>\n",
       "      <td>Pablo Zalaquett Said</td>\n",
       "      <td>Pablo Zalaquett Said</td>\n",
       "      <td>Pablo Zalaquett</td>\n",
       "      <td>Pablo Zalaquett Said</td>\n",
       "      <td>Pablo Zalaquett Said</td>\n",
       "      <td>Pablo Zalaquett</td>\n",
       "      <td>NaN</td>\n",
       "    </tr>\n",
       "    <tr>\n",
       "      <th>8</th>\n",
       "      <td>Chile</td>\n",
       "      <td>Santiago</td>\n",
       "      <td>Mayor</td>\n",
       "      <td>2012-10-30</td>\n",
       "      <td>Waldo Mora Longa</td>\n",
       "      <td>Waldo Mora Longa</td>\n",
       "      <td>None.</td>\n",
       "      <td>Waldo Mora Longa</td>\n",
       "      <td>Waldo Mora L.</td>\n",
       "      <td>Waldo Mora</td>\n",
       "      <td>NaN</td>\n",
       "    </tr>\n",
       "    <tr>\n",
       "      <th>9</th>\n",
       "      <td>Chile</td>\n",
       "      <td>Santiago</td>\n",
       "      <td>Mayor</td>\n",
       "      <td>2012-10-31</td>\n",
       "      <td>Mario Aguilar</td>\n",
       "      <td>Mario Aguilar Arevalo</td>\n",
       "      <td>None.</td>\n",
       "      <td>Mario Aguilar Arevalo</td>\n",
       "      <td>Mario Aguilar</td>\n",
       "      <td>Mario Aguilar</td>\n",
       "      <td>NaN</td>\n",
       "    </tr>\n",
       "    <tr>\n",
       "      <th>...</th>\n",
       "      <td>...</td>\n",
       "      <td>...</td>\n",
       "      <td>...</td>\n",
       "      <td>...</td>\n",
       "      <td>...</td>\n",
       "      <td>...</td>\n",
       "      <td>...</td>\n",
       "      <td>...</td>\n",
       "      <td>...</td>\n",
       "      <td>...</td>\n",
       "      <td>...</td>\n",
       "    </tr>\n",
       "    <tr>\n",
       "      <th>33</th>\n",
       "      <td>Venezuela</td>\n",
       "      <td>Zulia</td>\n",
       "      <td>Governor</td>\n",
       "      <td>2012-12-16</td>\n",
       "      <td>Iris Rincón</td>\n",
       "      <td>Iris Rincón</td>\n",
       "      <td>None.</td>\n",
       "      <td>Iris Rincon</td>\n",
       "      <td>None.</td>\n",
       "      <td>Iris Rincon</td>\n",
       "      <td>Iris Rincón</td>\n",
       "    </tr>\n",
       "    <tr>\n",
       "      <th>34</th>\n",
       "      <td>Venezuela</td>\n",
       "      <td>Zulia</td>\n",
       "      <td>Governor</td>\n",
       "      <td>2012-12-16</td>\n",
       "      <td>Maria Bolívar</td>\n",
       "      <td>María Bolívar</td>\n",
       "      <td>María Bolívar</td>\n",
       "      <td>Maria Bolivar</td>\n",
       "      <td>Maria Bolivar</td>\n",
       "      <td>Maria Bolivar</td>\n",
       "      <td>María Bolívar</td>\n",
       "    </tr>\n",
       "    <tr>\n",
       "      <th>35</th>\n",
       "      <td>Venezuela</td>\n",
       "      <td>Zulia</td>\n",
       "      <td>Governor</td>\n",
       "      <td>2012-12-16</td>\n",
       "      <td>Pablo Pérez</td>\n",
       "      <td>Pablo Pérez Álvarez</td>\n",
       "      <td>Pablo Pérez Álvarez</td>\n",
       "      <td>Pablo Perez</td>\n",
       "      <td>Pablo Pérez Álvarez</td>\n",
       "      <td>Pablo Perez</td>\n",
       "      <td>Pablo Pérez</td>\n",
       "    </tr>\n",
       "    <tr>\n",
       "      <th>36</th>\n",
       "      <td>Ecuador</td>\n",
       "      <td>NaN</td>\n",
       "      <td>President</td>\n",
       "      <td>2013-02-07</td>\n",
       "      <td>Rafael Vicente Correa Delgado</td>\n",
       "      <td>Rafael Correa</td>\n",
       "      <td>Rafael Correa</td>\n",
       "      <td>Rafael Correa</td>\n",
       "      <td>Rafael Correa</td>\n",
       "      <td>Rafael Correa</td>\n",
       "      <td>NaN</td>\n",
       "    </tr>\n",
       "    <tr>\n",
       "      <th>37</th>\n",
       "      <td>Ecuador</td>\n",
       "      <td>NaN</td>\n",
       "      <td>President</td>\n",
       "      <td>2013-02-07</td>\n",
       "      <td>Guillermo Alberto Santiago Lasso Mendoza</td>\n",
       "      <td>Guillermo Lasso</td>\n",
       "      <td>Guillermo Lasso</td>\n",
       "      <td>Guillermo Lasso</td>\n",
       "      <td>Guillermo Lasso</td>\n",
       "      <td>Guillermo Lasso</td>\n",
       "      <td>NaN</td>\n",
       "    </tr>\n",
       "    <tr>\n",
       "      <th>38</th>\n",
       "      <td>Ecuador</td>\n",
       "      <td>NaN</td>\n",
       "      <td>President</td>\n",
       "      <td>2013-02-07</td>\n",
       "      <td>Lucio Edwin Gutiérrez Borbúa</td>\n",
       "      <td>Lucio Gutiérrez</td>\n",
       "      <td>Lucio Gutiérrez</td>\n",
       "      <td>Lucio Gutiérrez</td>\n",
       "      <td>Lucio Gutiérrez</td>\n",
       "      <td>Lucio Gutierrez</td>\n",
       "      <td>Lucio Gutiérrez</td>\n",
       "    </tr>\n",
       "    <tr>\n",
       "      <th>39</th>\n",
       "      <td>Ecuador</td>\n",
       "      <td>NaN</td>\n",
       "      <td>President</td>\n",
       "      <td>2013-02-07</td>\n",
       "      <td>Álvaro Fernando Noboa Pontón</td>\n",
       "      <td>Álvaro Noboa</td>\n",
       "      <td>Álvaro Noboa</td>\n",
       "      <td>Alvaro Noboa</td>\n",
       "      <td>Alvaro Noboa</td>\n",
       "      <td>Alvaro Noboa</td>\n",
       "      <td>Álvaro Noboa</td>\n",
       "    </tr>\n",
       "    <tr>\n",
       "      <th>40</th>\n",
       "      <td>Ecuador</td>\n",
       "      <td>NaN</td>\n",
       "      <td>President</td>\n",
       "      <td>2013-02-07</td>\n",
       "      <td>Alberto Acosta Espinosa</td>\n",
       "      <td>Alberto Acosta Espinosa</td>\n",
       "      <td>Alberto Acosta Espinosa</td>\n",
       "      <td>Alberto Acosta</td>\n",
       "      <td>Alberto Acosta</td>\n",
       "      <td>Alberto Acosta</td>\n",
       "      <td>NaN</td>\n",
       "    </tr>\n",
       "    <tr>\n",
       "      <th>41</th>\n",
       "      <td>Ecuador</td>\n",
       "      <td>NaN</td>\n",
       "      <td>President</td>\n",
       "      <td>2013-02-07</td>\n",
       "      <td>Mauricio Rodas Espinel</td>\n",
       "      <td>Mauricio Rodas</td>\n",
       "      <td>Mauricio Rodas</td>\n",
       "      <td>Mauricio Rodas</td>\n",
       "      <td>Mauricio Rodas</td>\n",
       "      <td>Mauricio Rodas</td>\n",
       "      <td>NaN</td>\n",
       "    </tr>\n",
       "    <tr>\n",
       "      <th>42</th>\n",
       "      <td>Ecuador</td>\n",
       "      <td>NaN</td>\n",
       "      <td>President</td>\n",
       "      <td>2013-02-07</td>\n",
       "      <td>Norman Wray</td>\n",
       "      <td>Norman Wray</td>\n",
       "      <td>None.</td>\n",
       "      <td>Norman Wray</td>\n",
       "      <td>Norman Wray</td>\n",
       "      <td>Norman Wray</td>\n",
       "      <td>NaN</td>\n",
       "    </tr>\n",
       "  </tbody>\n",
       "</table>\n",
       "<p>43 rows × 11 columns</p>\n",
       "</div>"
      ],
      "text/plain": [
       "      Country State/City      Title       Date  \\\n",
       "0   Venezuela        NaN  President 2012-10-07   \n",
       "1   Venezuela        NaN  President 2012-10-07   \n",
       "2   Venezuela        NaN  President 2012-10-07   \n",
       "3   Venezuela        NaN  President 2012-10-07   \n",
       "4   Venezuela        NaN  President 2012-10-07   \n",
       "5   Venezuela        NaN  President 2012-10-07   \n",
       "6       Chile   Santiago      Mayor 2012-10-28   \n",
       "7       Chile   Santiago      Mayor 2012-10-29   \n",
       "8       Chile   Santiago      Mayor 2012-10-30   \n",
       "9       Chile   Santiago      Mayor 2012-10-31   \n",
       "..        ...        ...        ...        ...   \n",
       "33  Venezuela      Zulia   Governor 2012-12-16   \n",
       "34  Venezuela      Zulia   Governor 2012-12-16   \n",
       "35  Venezuela      Zulia   Governor 2012-12-16   \n",
       "36    Ecuador        NaN  President 2013-02-07   \n",
       "37    Ecuador        NaN  President 2013-02-07   \n",
       "38    Ecuador        NaN  President 2013-02-07   \n",
       "39    Ecuador        NaN  President 2013-02-07   \n",
       "40    Ecuador        NaN  President 2013-02-07   \n",
       "41    Ecuador        NaN  President 2013-02-07   \n",
       "42    Ecuador        NaN  President 2013-02-07   \n",
       "\n",
       "                                   Catalogue     Wikipedia Election Page  \\\n",
       "0                   Hugo Rafael Chavez Frias                 Hugo Chávez   \n",
       "1                 Henrique Capriles Radonski  Henrique Capriles Radonski   \n",
       "2                     Maria Josefina Bolivar               María Bolívar   \n",
       "3                            Orlando Chirino            Orlando Chirinos   \n",
       "4                                 Luis Reyes         Luis Reyes Castillo   \n",
       "5                              Reina Sequera               Reina Sequera   \n",
       "6           Carolina Montserrat Toha Morales       Carolina Tohá Morales   \n",
       "7                       Pablo Zalaquett Said        Pablo Zalaquett Said   \n",
       "8                           Waldo Mora Longa            Waldo Mora Longa   \n",
       "9                              Mario Aguilar       Mario Aguilar Arevalo   \n",
       "..                                       ...                         ...   \n",
       "33                               Iris Rincón                 Iris Rincón   \n",
       "34                             Maria Bolívar               María Bolívar   \n",
       "35                               Pablo Pérez         Pablo Pérez Álvarez   \n",
       "36             Rafael Vicente Correa Delgado               Rafael Correa   \n",
       "37  Guillermo Alberto Santiago Lasso Mendoza             Guillermo Lasso   \n",
       "38              Lucio Edwin Gutiérrez Borbúa             Lucio Gutiérrez   \n",
       "39              Álvaro Fernando Noboa Pontón                Álvaro Noboa   \n",
       "40                   Alberto Acosta Espinosa     Alberto Acosta Espinosa   \n",
       "41                    Mauricio Rodas Espinel              Mauricio Rodas   \n",
       "42                               Norman Wray                 Norman Wray   \n",
       "\n",
       "     Wikipedia Individual Page Electoral Institution in Country  \\\n",
       "0                  Hugo Chávez                      Hugo Chavez   \n",
       "1   Henrique Capriles Radonski       Henrique Capriles Radonski   \n",
       "2                María Bolívar                    Maria Bolivar   \n",
       "3                        None.                  Orlando Chirino   \n",
       "4                        None.                       Luis Reyes   \n",
       "5                Reina Sequera                    Reina Sequera   \n",
       "6                Carolina Tohá            Carolina Toha Morales   \n",
       "7              Pablo Zalaquett             Pablo Zalaquett Said   \n",
       "8                        None.                 Waldo Mora Longa   \n",
       "9                        None.            Mario Aguilar Arevalo   \n",
       "..                         ...                              ...   \n",
       "33                       None.                      Iris Rincon   \n",
       "34               María Bolívar                    Maria Bolivar   \n",
       "35         Pablo Pérez Álvarez                      Pablo Perez   \n",
       "36               Rafael Correa                    Rafael Correa   \n",
       "37             Guillermo Lasso                  Guillermo Lasso   \n",
       "38             Lucio Gutiérrez                  Lucio Gutiérrez   \n",
       "39                Álvaro Noboa                     Alvaro Noboa   \n",
       "40     Alberto Acosta Espinosa                   Alberto Acosta   \n",
       "41              Mauricio Rodas                   Mauricio Rodas   \n",
       "42                       None.                      Norman Wray   \n",
       "\n",
       "                 Twitter   CANDIDATE NAME 1 CANDIDATE NAME 2  \n",
       "0      Hugo Chávez Frías        Hugo Chavez      Hugo Chávez  \n",
       "1   Henrique Capriles R.  Henrique Capriles              NaN  \n",
       "2          Maria Bolivar      Maria Bolivar    María Bolívar  \n",
       "3        Orlando Chirino    Orlando Chirino              NaN  \n",
       "4             Luis Reyes         Luis Reyes              NaN  \n",
       "5          Reina Sequera      Reina Sequera              NaN  \n",
       "6          Carolina Tohá      Carolina Tohá    Carolina Toha  \n",
       "7   Pablo Zalaquett Said    Pablo Zalaquett              NaN  \n",
       "8          Waldo Mora L.         Waldo Mora              NaN  \n",
       "9          Mario Aguilar      Mario Aguilar              NaN  \n",
       "..                   ...                ...              ...  \n",
       "33                 None.        Iris Rincon      Iris Rincón  \n",
       "34         Maria Bolivar      Maria Bolivar    María Bolívar  \n",
       "35   Pablo Pérez Álvarez        Pablo Perez      Pablo Pérez  \n",
       "36         Rafael Correa      Rafael Correa              NaN  \n",
       "37       Guillermo Lasso    Guillermo Lasso              NaN  \n",
       "38       Lucio Gutiérrez    Lucio Gutierrez  Lucio Gutiérrez  \n",
       "39          Alvaro Noboa       Alvaro Noboa     Álvaro Noboa  \n",
       "40        Alberto Acosta     Alberto Acosta              NaN  \n",
       "41        Mauricio Rodas     Mauricio Rodas              NaN  \n",
       "42           Norman Wray        Norman Wray              NaN  \n",
       "\n",
       "[43 rows x 11 columns]"
      ]
     },
     "execution_count": 45,
     "metadata": {},
     "output_type": "execute_result"
    }
   ],
   "source": [
    "data"
   ]
  },
  {
   "cell_type": "code",
   "execution_count": 46,
   "metadata": {
    "collapsed": true
   },
   "outputs": [],
   "source": [
    "data.to_excel('people.xls')"
   ]
  },
  {
   "cell_type": "code",
   "execution_count": 47,
   "metadata": {
    "collapsed": false
   },
   "outputs": [
    {
     "data": {
      "text/html": [
       "<div>\n",
       "<table border=\"1\" class=\"dataframe\">\n",
       "  <thead>\n",
       "    <tr style=\"text-align: right;\">\n",
       "      <th></th>\n",
       "      <th>Country</th>\n",
       "      <th>State/City</th>\n",
       "      <th>Title</th>\n",
       "      <th>Date</th>\n",
       "      <th>Catalogue</th>\n",
       "      <th>Wikipedia Election Page</th>\n",
       "      <th>Wikipedia Individual Page</th>\n",
       "      <th>Electoral Institution in Country</th>\n",
       "      <th>Twitter</th>\n",
       "      <th>CANDIDATE NAME 1</th>\n",
       "      <th>CANDIDATE NAME 2</th>\n",
       "    </tr>\n",
       "  </thead>\n",
       "  <tbody>\n",
       "    <tr>\n",
       "      <th>6</th>\n",
       "      <td>Chile</td>\n",
       "      <td>Santiago</td>\n",
       "      <td>Mayor</td>\n",
       "      <td>2012-10-28</td>\n",
       "      <td>Carolina Montserrat Toha Morales</td>\n",
       "      <td>Carolina Tohá Morales</td>\n",
       "      <td>Carolina Tohá</td>\n",
       "      <td>Carolina Toha Morales</td>\n",
       "      <td>Carolina Tohá</td>\n",
       "      <td>Carolina Tohá</td>\n",
       "      <td>Carolina Toha</td>\n",
       "    </tr>\n",
       "    <tr>\n",
       "      <th>7</th>\n",
       "      <td>Chile</td>\n",
       "      <td>Santiago</td>\n",
       "      <td>Mayor</td>\n",
       "      <td>2012-10-29</td>\n",
       "      <td>Pablo Zalaquett Said</td>\n",
       "      <td>Pablo Zalaquett Said</td>\n",
       "      <td>Pablo Zalaquett</td>\n",
       "      <td>Pablo Zalaquett Said</td>\n",
       "      <td>Pablo Zalaquett Said</td>\n",
       "      <td>Pablo Zalaquett</td>\n",
       "      <td>NaN</td>\n",
       "    </tr>\n",
       "    <tr>\n",
       "      <th>8</th>\n",
       "      <td>Chile</td>\n",
       "      <td>Santiago</td>\n",
       "      <td>Mayor</td>\n",
       "      <td>2012-10-30</td>\n",
       "      <td>Waldo Mora Longa</td>\n",
       "      <td>Waldo Mora Longa</td>\n",
       "      <td>None.</td>\n",
       "      <td>Waldo Mora Longa</td>\n",
       "      <td>Waldo Mora L.</td>\n",
       "      <td>Waldo Mora</td>\n",
       "      <td>NaN</td>\n",
       "    </tr>\n",
       "    <tr>\n",
       "      <th>9</th>\n",
       "      <td>Chile</td>\n",
       "      <td>Santiago</td>\n",
       "      <td>Mayor</td>\n",
       "      <td>2012-10-31</td>\n",
       "      <td>Mario Aguilar</td>\n",
       "      <td>Mario Aguilar Arevalo</td>\n",
       "      <td>None.</td>\n",
       "      <td>Mario Aguilar Arevalo</td>\n",
       "      <td>Mario Aguilar</td>\n",
       "      <td>Mario Aguilar</td>\n",
       "      <td>NaN</td>\n",
       "    </tr>\n",
       "    <tr>\n",
       "      <th>10</th>\n",
       "      <td>Chile</td>\n",
       "      <td>Santiago</td>\n",
       "      <td>Mayor</td>\n",
       "      <td>2012-11-01</td>\n",
       "      <td>Ivan Carrasco</td>\n",
       "      <td>Iván Carrasco Mora</td>\n",
       "      <td>None.</td>\n",
       "      <td>Ivan Carrasco Mora</td>\n",
       "      <td>None.</td>\n",
       "      <td>Iván Carrasco Mora</td>\n",
       "      <td>Ivan Carrasco Mora</td>\n",
       "    </tr>\n",
       "  </tbody>\n",
       "</table>\n",
       "</div>"
      ],
      "text/plain": [
       "   Country State/City  Title       Date                         Catalogue  \\\n",
       "6    Chile   Santiago  Mayor 2012-10-28  Carolina Montserrat Toha Morales   \n",
       "7    Chile   Santiago  Mayor 2012-10-29              Pablo Zalaquett Said   \n",
       "8    Chile   Santiago  Mayor 2012-10-30                  Waldo Mora Longa   \n",
       "9    Chile   Santiago  Mayor 2012-10-31                     Mario Aguilar   \n",
       "10   Chile   Santiago  Mayor 2012-11-01                     Ivan Carrasco   \n",
       "\n",
       "   Wikipedia Election Page Wikipedia Individual Page  \\\n",
       "6    Carolina Tohá Morales             Carolina Tohá   \n",
       "7     Pablo Zalaquett Said           Pablo Zalaquett   \n",
       "8         Waldo Mora Longa                     None.   \n",
       "9    Mario Aguilar Arevalo                     None.   \n",
       "10      Iván Carrasco Mora                     None.   \n",
       "\n",
       "   Electoral Institution in Country               Twitter    CANDIDATE NAME 1  \\\n",
       "6             Carolina Toha Morales         Carolina Tohá       Carolina Tohá   \n",
       "7              Pablo Zalaquett Said  Pablo Zalaquett Said     Pablo Zalaquett   \n",
       "8                  Waldo Mora Longa         Waldo Mora L.          Waldo Mora   \n",
       "9             Mario Aguilar Arevalo         Mario Aguilar       Mario Aguilar   \n",
       "10               Ivan Carrasco Mora                 None.  Iván Carrasco Mora   \n",
       "\n",
       "      CANDIDATE NAME 2  \n",
       "6        Carolina Toha  \n",
       "7                  NaN  \n",
       "8                  NaN  \n",
       "9                  NaN  \n",
       "10  Ivan Carrasco Mora  "
      ]
     },
     "execution_count": 47,
     "metadata": {},
     "output_type": "execute_result"
    }
   ],
   "source": [
    "data[data.Country == 'Chile']"
   ]
  },
  {
   "cell_type": "code",
   "execution_count": 48,
   "metadata": {
    "collapsed": false
   },
   "outputs": [
    {
     "data": {
      "text/html": [
       "<div>\n",
       "<table border=\"1\" class=\"dataframe\">\n",
       "  <thead>\n",
       "    <tr style=\"text-align: right;\">\n",
       "      <th></th>\n",
       "      <th>Country</th>\n",
       "      <th>State/City</th>\n",
       "      <th>Title</th>\n",
       "      <th>Date</th>\n",
       "      <th>Catalogue</th>\n",
       "      <th>Wikipedia Election Page</th>\n",
       "      <th>Wikipedia Individual Page</th>\n",
       "      <th>Electoral Institution in Country</th>\n",
       "      <th>Twitter</th>\n",
       "      <th>CANDIDATE NAME 1</th>\n",
       "      <th>CANDIDATE NAME 2</th>\n",
       "    </tr>\n",
       "  </thead>\n",
       "  <tbody>\n",
       "    <tr>\n",
       "      <th>0</th>\n",
       "      <td>Venezuela</td>\n",
       "      <td>NaN</td>\n",
       "      <td>President</td>\n",
       "      <td>2012-10-07</td>\n",
       "      <td>Hugo Rafael Chavez Frias</td>\n",
       "      <td>Hugo Chávez</td>\n",
       "      <td>Hugo Chávez</td>\n",
       "      <td>Hugo Chavez</td>\n",
       "      <td>Hugo Chávez Frías</td>\n",
       "      <td>Hugo Chavez</td>\n",
       "      <td>Hugo Chávez</td>\n",
       "    </tr>\n",
       "    <tr>\n",
       "      <th>1</th>\n",
       "      <td>Venezuela</td>\n",
       "      <td>NaN</td>\n",
       "      <td>President</td>\n",
       "      <td>2012-10-07</td>\n",
       "      <td>Henrique Capriles Radonski</td>\n",
       "      <td>Henrique Capriles Radonski</td>\n",
       "      <td>Henrique Capriles Radonski</td>\n",
       "      <td>Henrique Capriles Radonski</td>\n",
       "      <td>Henrique Capriles R.</td>\n",
       "      <td>Henrique Capriles</td>\n",
       "      <td>NaN</td>\n",
       "    </tr>\n",
       "    <tr>\n",
       "      <th>2</th>\n",
       "      <td>Venezuela</td>\n",
       "      <td>NaN</td>\n",
       "      <td>President</td>\n",
       "      <td>2012-10-07</td>\n",
       "      <td>Maria Josefina Bolivar</td>\n",
       "      <td>María Bolívar</td>\n",
       "      <td>María Bolívar</td>\n",
       "      <td>Maria Bolivar</td>\n",
       "      <td>Maria Bolivar</td>\n",
       "      <td>Maria Bolivar</td>\n",
       "      <td>María Bolívar</td>\n",
       "    </tr>\n",
       "    <tr>\n",
       "      <th>3</th>\n",
       "      <td>Venezuela</td>\n",
       "      <td>NaN</td>\n",
       "      <td>President</td>\n",
       "      <td>2012-10-07</td>\n",
       "      <td>Orlando Chirino</td>\n",
       "      <td>Orlando Chirinos</td>\n",
       "      <td>None.</td>\n",
       "      <td>Orlando Chirino</td>\n",
       "      <td>Orlando Chirino</td>\n",
       "      <td>Orlando Chirino</td>\n",
       "      <td>NaN</td>\n",
       "    </tr>\n",
       "    <tr>\n",
       "      <th>4</th>\n",
       "      <td>Venezuela</td>\n",
       "      <td>NaN</td>\n",
       "      <td>President</td>\n",
       "      <td>2012-10-07</td>\n",
       "      <td>Luis Reyes</td>\n",
       "      <td>Luis Reyes Castillo</td>\n",
       "      <td>None.</td>\n",
       "      <td>Luis Reyes</td>\n",
       "      <td>Luis Reyes</td>\n",
       "      <td>Luis Reyes</td>\n",
       "      <td>NaN</td>\n",
       "    </tr>\n",
       "    <tr>\n",
       "      <th>5</th>\n",
       "      <td>Venezuela</td>\n",
       "      <td>NaN</td>\n",
       "      <td>President</td>\n",
       "      <td>2012-10-07</td>\n",
       "      <td>Reina Sequera</td>\n",
       "      <td>Reina Sequera</td>\n",
       "      <td>Reina Sequera</td>\n",
       "      <td>Reina Sequera</td>\n",
       "      <td>Reina Sequera</td>\n",
       "      <td>Reina Sequera</td>\n",
       "      <td>NaN</td>\n",
       "    </tr>\n",
       "    <tr>\n",
       "      <th>6</th>\n",
       "      <td>Chile</td>\n",
       "      <td>Santiago</td>\n",
       "      <td>Mayor</td>\n",
       "      <td>2012-10-28</td>\n",
       "      <td>Carolina Montserrat Toha Morales</td>\n",
       "      <td>Carolina Tohá Morales</td>\n",
       "      <td>Carolina Tohá</td>\n",
       "      <td>Carolina Toha Morales</td>\n",
       "      <td>Carolina Tohá</td>\n",
       "      <td>Carolina Tohá</td>\n",
       "      <td>Carolina Toha</td>\n",
       "    </tr>\n",
       "    <tr>\n",
       "      <th>7</th>\n",
       "      <td>Chile</td>\n",
       "      <td>Santiago</td>\n",
       "      <td>Mayor</td>\n",
       "      <td>2012-10-29</td>\n",
       "      <td>Pablo Zalaquett Said</td>\n",
       "      <td>Pablo Zalaquett Said</td>\n",
       "      <td>Pablo Zalaquett</td>\n",
       "      <td>Pablo Zalaquett Said</td>\n",
       "      <td>Pablo Zalaquett Said</td>\n",
       "      <td>Pablo Zalaquett</td>\n",
       "      <td>NaN</td>\n",
       "    </tr>\n",
       "    <tr>\n",
       "      <th>8</th>\n",
       "      <td>Chile</td>\n",
       "      <td>Santiago</td>\n",
       "      <td>Mayor</td>\n",
       "      <td>2012-10-30</td>\n",
       "      <td>Waldo Mora Longa</td>\n",
       "      <td>Waldo Mora Longa</td>\n",
       "      <td>None.</td>\n",
       "      <td>Waldo Mora Longa</td>\n",
       "      <td>Waldo Mora L.</td>\n",
       "      <td>Waldo Mora</td>\n",
       "      <td>NaN</td>\n",
       "    </tr>\n",
       "    <tr>\n",
       "      <th>9</th>\n",
       "      <td>Chile</td>\n",
       "      <td>Santiago</td>\n",
       "      <td>Mayor</td>\n",
       "      <td>2012-10-31</td>\n",
       "      <td>Mario Aguilar</td>\n",
       "      <td>Mario Aguilar Arevalo</td>\n",
       "      <td>None.</td>\n",
       "      <td>Mario Aguilar Arevalo</td>\n",
       "      <td>Mario Aguilar</td>\n",
       "      <td>Mario Aguilar</td>\n",
       "      <td>NaN</td>\n",
       "    </tr>\n",
       "  </tbody>\n",
       "</table>\n",
       "</div>"
      ],
      "text/plain": [
       "     Country State/City      Title       Date  \\\n",
       "0  Venezuela        NaN  President 2012-10-07   \n",
       "1  Venezuela        NaN  President 2012-10-07   \n",
       "2  Venezuela        NaN  President 2012-10-07   \n",
       "3  Venezuela        NaN  President 2012-10-07   \n",
       "4  Venezuela        NaN  President 2012-10-07   \n",
       "5  Venezuela        NaN  President 2012-10-07   \n",
       "6      Chile   Santiago      Mayor 2012-10-28   \n",
       "7      Chile   Santiago      Mayor 2012-10-29   \n",
       "8      Chile   Santiago      Mayor 2012-10-30   \n",
       "9      Chile   Santiago      Mayor 2012-10-31   \n",
       "\n",
       "                          Catalogue     Wikipedia Election Page  \\\n",
       "0          Hugo Rafael Chavez Frias                 Hugo Chávez   \n",
       "1        Henrique Capriles Radonski  Henrique Capriles Radonski   \n",
       "2            Maria Josefina Bolivar               María Bolívar   \n",
       "3                   Orlando Chirino            Orlando Chirinos   \n",
       "4                        Luis Reyes         Luis Reyes Castillo   \n",
       "5                     Reina Sequera               Reina Sequera   \n",
       "6  Carolina Montserrat Toha Morales       Carolina Tohá Morales   \n",
       "7              Pablo Zalaquett Said        Pablo Zalaquett Said   \n",
       "8                  Waldo Mora Longa            Waldo Mora Longa   \n",
       "9                     Mario Aguilar       Mario Aguilar Arevalo   \n",
       "\n",
       "    Wikipedia Individual Page Electoral Institution in Country  \\\n",
       "0                 Hugo Chávez                      Hugo Chavez   \n",
       "1  Henrique Capriles Radonski       Henrique Capriles Radonski   \n",
       "2               María Bolívar                    Maria Bolivar   \n",
       "3                       None.                  Orlando Chirino   \n",
       "4                       None.                       Luis Reyes   \n",
       "5               Reina Sequera                    Reina Sequera   \n",
       "6               Carolina Tohá            Carolina Toha Morales   \n",
       "7             Pablo Zalaquett             Pablo Zalaquett Said   \n",
       "8                       None.                 Waldo Mora Longa   \n",
       "9                       None.            Mario Aguilar Arevalo   \n",
       "\n",
       "                Twitter   CANDIDATE NAME 1 CANDIDATE NAME 2  \n",
       "0     Hugo Chávez Frías        Hugo Chavez      Hugo Chávez  \n",
       "1  Henrique Capriles R.  Henrique Capriles              NaN  \n",
       "2         Maria Bolivar      Maria Bolivar    María Bolívar  \n",
       "3       Orlando Chirino    Orlando Chirino              NaN  \n",
       "4            Luis Reyes         Luis Reyes              NaN  \n",
       "5         Reina Sequera      Reina Sequera              NaN  \n",
       "6         Carolina Tohá      Carolina Tohá    Carolina Toha  \n",
       "7  Pablo Zalaquett Said    Pablo Zalaquett              NaN  \n",
       "8         Waldo Mora L.         Waldo Mora              NaN  \n",
       "9         Mario Aguilar      Mario Aguilar              NaN  "
      ]
     },
     "execution_count": 48,
     "metadata": {},
     "output_type": "execute_result"
    }
   ],
   "source": [
    "data[data.Date < '2012-11']"
   ]
  },
  {
   "cell_type": "code",
   "execution_count": 49,
   "metadata": {
    "collapsed": false
   },
   "outputs": [
    {
     "data": {
      "text/plain": [
       "array([u'Venezuela', u'Chile', u'Nicaragua', u'Ecuador'], dtype=object)"
      ]
     },
     "execution_count": 49,
     "metadata": {},
     "output_type": "execute_result"
    }
   ],
   "source": [
    "data.Country.unique()"
   ]
  },
  {
   "cell_type": "code",
   "execution_count": 50,
   "metadata": {
    "collapsed": false
   },
   "outputs": [
    {
     "data": {
      "text/plain": [
       "Venezuela    25\n",
       "Ecuador       7\n",
       "Nicaragua     6\n",
       "Chile         5\n",
       "Name: Country, dtype: int64"
      ]
     },
     "execution_count": 50,
     "metadata": {},
     "output_type": "execute_result"
    }
   ],
   "source": [
    "data.Country.value_counts()"
   ]
  },
  {
   "cell_type": "markdown",
   "metadata": {},
   "source": [
    "Matplotlib\n",
    "=========="
   ]
  },
  {
   "cell_type": "code",
   "execution_count": 51,
   "metadata": {
    "collapsed": true
   },
   "outputs": [],
   "source": [
    "%matplotlib inline"
   ]
  },
  {
   "cell_type": "code",
   "execution_count": 52,
   "metadata": {
    "collapsed": false
   },
   "outputs": [],
   "source": [
    "import numpy as np\n",
    "from   pylab import *\n",
    "\n",
    "n     = 200\n",
    "x     = np.linspace(0,10,n)\n",
    "data  = np.sin(x)\n",
    "noise = np.random.randn(n)"
   ]
  },
  {
   "cell_type": "code",
   "execution_count": 53,
   "metadata": {
    "collapsed": false
   },
   "outputs": [
    {
     "data": {
      "text/plain": [
       "[<matplotlib.lines.Line2D at 0x114ef75d0>]"
      ]
     },
     "execution_count": 53,
     "metadata": {},
     "output_type": "execute_result"
    },
    {
     "data": {
      "image/png": "[encoded data removed]",
      "text/plain": [
       "<matplotlib.figure.Figure at 0x114ba9e10>"
      ]
     },
     "metadata": {},
     "output_type": "display_data"
    }
   ],
   "source": [
    "plot(x,data)"
   ]
  },
  {
   "cell_type": "code",
   "execution_count": 54,
   "metadata": {
    "collapsed": false
   },
   "outputs": [
    {
     "data": {
      "text/plain": [
       "[<matplotlib.lines.Line2D at 0x118006810>]"
      ]
     },
     "execution_count": 54,
     "metadata": {},
     "output_type": "execute_result"
    },
    {
     "data": {
      "image/png": "[encoded data removed]",
      "text/plain": [
       "<matplotlib.figure.Figure at 0x114e9fd50>"
      ]
     },
     "metadata": {},
     "output_type": "display_data"
    }
   ],
   "source": [
    "plot(x,noise, 'rx')"
   ]
  },
  {
   "cell_type": "code",
   "execution_count": 55,
   "metadata": {
    "collapsed": false
   },
   "outputs": [
    {
     "data": {
      "image/png": "[encoded data removed]",
      "text/plain": [
       "<matplotlib.figure.Figure at 0x11803b150>"
      ]
     },
     "metadata": {},
     "output_type": "display_data"
    }
   ],
   "source": [
    "_ = hist(noise, 20)"
   ]
  },
  {
   "cell_type": "code",
   "execution_count": 56,
   "metadata": {
    "collapsed": false
   },
   "outputs": [
    {
     "data": {
      "text/plain": [
       "[<matplotlib.lines.Line2D at 0x118346a50>]"
      ]
     },
     "execution_count": 56,
     "metadata": {},
     "output_type": "execute_result"
    },
    {
     "data": {
      "image/png": "[encoded data removed]",
      "text/plain": [
       "<matplotlib.figure.Figure at 0x118205050>"
      ]
     },
     "metadata": {},
     "output_type": "display_data"
    }
   ],
   "source": [
    "obs = data + noise\n",
    "plot(x, obs)"
   ]
  },
  {
   "cell_type": "code",
   "execution_count": 57,
   "metadata": {
    "collapsed": false
   },
   "outputs": [
    {
     "data": {
      "image/png": "[encoded data removed]",
      "text/plain": [
       "<matplotlib.figure.Figure at 0x11837ac90>"
      ]
     },
     "metadata": {},
     "output_type": "display_data"
    }
   ],
   "source": [
    "obs = data + noise\n",
    "figure()\n",
    "subplot(211)\n",
    "title('sin + $\\mathcal{N}$(0,1) noise')\n",
    "xlabel('time (s)')\n",
    "ylabel('reading (mV)')\n",
    "plot(x, obs, 'r')\n",
    "subplot(212)\n",
    "plot(x, data, 'r')\n",
    "plot(x, noise, 'x')\n",
    "show()"
   ]
  },
  {
   "cell_type": "markdown",
   "metadata": {},
   "source": [
    "Matplotlib Exercise\n",
    "-------------------\n",
    "\n",
    "Create a figure showing the following functions on the range $-5\\pi$ to $+5\\pi$:\n",
    "\n",
    "```\n",
    "    f(x) = x\n",
    "    g(x) = -x\n",
    "    h(x) = sin(x)\n",
    "    k(x) = x*sin(x)\n",
    "```\n",
    "\n",
    "Each function should be a different color and use a difernet line style.\n",
    "\n",
    "The figure needs lablled x- and y-axes, a legend and a title.\n",
    "\n",
    "Use `pyplot.annotate()` to label the minima of `k(x)=x*sin(x)` in the region of interest. Use the `.min()` and `.argmin()` methods to locate the minima point."
   ]
  },
  {
   "cell_type": "markdown",
   "metadata": {},
   "source": [
    "Scipy\n",
    "====="
   ]
  },
  {
   "cell_type": "code",
   "execution_count": 58,
   "metadata": {
    "collapsed": false
   },
   "outputs": [],
   "source": [
    "import matplotlib.pyplot as plt\n",
    "import numpy as np\n",
    "import scipy as sp\n",
    "import scipy.optimize\n",
    "from numpy.random import rand"
   ]
  },
  {
   "cell_type": "code",
   "execution_count": 59,
   "metadata": {
    "collapsed": false
   },
   "outputs": [
    {
     "data": {
      "text/plain": [
       "True"
      ]
     },
     "execution_count": 59,
     "metadata": {},
     "output_type": "execute_result"
    }
   ],
   "source": [
    "'optimize' in dir(sp)"
   ]
  },
  {
   "cell_type": "markdown",
   "metadata": {},
   "source": [
    "$signal = A\\times cos(2{\\pi}x-1.32) + 0.22x$"
   ]
  },
  {
   "cell_type": "code",
   "execution_count": 60,
   "metadata": {
    "collapsed": false
   },
   "outputs": [],
   "source": [
    "points = 200\n",
    "x      = np.linspace(0, 10, points)\n",
    "\n",
    "# func-> A*cos(2pi*x-B)+x*C+noise\n",
    "signal = 12.0 * np.cos(2*np.pi*x-1.32) + 0.22 * x\n",
    "noise  = 4 * ((0.5-rand(points)) * np.exp(2*rand(points)**2))\n",
    "combined = signal + noise"
   ]
  },
  {
   "cell_type": "code",
   "execution_count": 61,
   "metadata": {
    "collapsed": false
   },
   "outputs": [
    {
     "data": {
      "image/png": "[encoded data removed]",
      "text/plain": [
       "<matplotlib.figure.Figure at 0x119f230d0>"
      ]
     },
     "metadata": {},
     "output_type": "display_data"
    }
   ],
   "source": [
    "figure()\n",
    "subplot(211)\n",
    "plot(x, noise)\n",
    "subplot(212)\n",
    "_ = hist(noise,20)"
   ]
  },
  {
   "cell_type": "code",
   "execution_count": 62,
   "metadata": {
    "collapsed": false
   },
   "outputs": [
    {
     "data": {
      "text/plain": [
       "[<matplotlib.lines.Line2D at 0x118173b10>]"
      ]
     },
     "execution_count": 62,
     "metadata": {},
     "output_type": "execute_result"
    },
    {
     "data": {
      "image/png": "[encoded data removed]",
      "text/plain": [
       "<matplotlib.figure.Figure at 0x1184b8cd0>"
      ]
     },
     "metadata": {},
     "output_type": "display_data"
    }
   ],
   "source": [
    "plot(x, combined, 'x')"
   ]
  },
  {
   "cell_type": "markdown",
   "metadata": {},
   "source": [
    "$model = p_0 \\times cos(2\\pi x - p_1)$"
   ]
  },
  {
   "cell_type": "code",
   "execution_count": 63,
   "metadata": {
    "collapsed": false
   },
   "outputs": [],
   "source": [
    "model = lambda p, x:    p[0] * np.cos(2*np.pi*x-p[1])\n",
    "err   = lambda p, x, y: model(p, x) - y"
   ]
  },
  {
   "cell_type": "code",
   "execution_count": 64,
   "metadata": {
    "collapsed": false
   },
   "outputs": [],
   "source": [
    "guess = [1., 0.8]\n",
    "fitted, success = sp.optimize.leastsq(err, guess, args=(x, combined))"
   ]
  },
  {
   "cell_type": "code",
   "execution_count": 65,
   "metadata": {
    "collapsed": false
   },
   "outputs": [
    {
     "data": {
      "text/plain": [
       "3"
      ]
     },
     "execution_count": 65,
     "metadata": {},
     "output_type": "execute_result"
    }
   ],
   "source": [
    "success"
   ]
  },
  {
   "cell_type": "code",
   "execution_count": 66,
   "metadata": {
    "collapsed": false
   },
   "outputs": [
    {
     "data": {
      "text/plain": [
       "[<matplotlib.lines.Line2D at 0x1184df7d0>]"
      ]
     },
     "execution_count": 66,
     "metadata": {},
     "output_type": "execute_result"
    },
    {
     "data": {
      "image/png": "[encoded data removed]",
      "text/plain": [
       "<matplotlib.figure.Figure at 0x11856f990>"
      ]
     },
     "metadata": {},
     "output_type": "display_data"
    }
   ],
   "source": [
    "plt.plot(x, combined,'r^')\n",
    "plt.plot(x, model(fitted,x), 'k-')"
   ]
  },
  {
   "cell_type": "code",
   "execution_count": 67,
   "metadata": {
    "collapsed": false
   },
   "outputs": [
    {
     "data": {
      "text/plain": [
       "[<matplotlib.lines.Line2D at 0x11849fe90>]"
      ]
     },
     "execution_count": 67,
     "metadata": {},
     "output_type": "execute_result"
    },
    {
     "data": {
      "image/png": "[encoded data removed]",
      "text/plain": [
       "<matplotlib.figure.Figure at 0x1182054d0>"
      ]
     },
     "metadata": {},
     "output_type": "display_data"
    }
   ],
   "source": [
    "data  = 3.23 * np.exp(-x*.23) + 0.02 * x\n",
    "noise = .2 * ( (0.5 - rand(points)) * np.exp(2*rand(points)**2))\n",
    "y     = data + noise\n",
    "plt.plot(x, y, 'r^')"
   ]
  },
  {
   "cell_type": "code",
   "execution_count": 68,
   "metadata": {
    "collapsed": false
   },
   "outputs": [],
   "source": [
    "model_exp = lambda p, x:    p[0] * np.exp(-x*p[1])\n",
    "err_exp   = lambda p, x, y: model_exp(p, x) - y"
   ]
  },
  {
   "cell_type": "code",
   "execution_count": 69,
   "metadata": {
    "collapsed": false
   },
   "outputs": [
    {
     "data": {
      "text/plain": [
       "[<matplotlib.lines.Line2D at 0x11a491110>,\n",
       " <matplotlib.lines.Line2D at 0x11a491210>]"
      ]
     },
     "execution_count": 69,
     "metadata": {},
     "output_type": "execute_result"
    },
    {
     "data": {
      "image/png": "[encoded data removed]",
      "text/plain": [
       "<matplotlib.figure.Figure at 0x1184df8d0>"
      ]
     },
     "metadata": {},
     "output_type": "display_data"
    }
   ],
   "source": [
    "guess = [5., -0.8]\n",
    "\n",
    "fitted_exp, success = sp.optimize.leastsq(err_exp, guess, args=(x, y))\n",
    "plt.plot(x, y, \"r^\", x, model_exp(fitted_exp, x), \"b-\")"
   ]
  },
  {
   "cell_type": "code",
   "execution_count": null,
   "metadata": {
    "collapsed": true
   },
   "outputs": [],
   "source": []
  }
 ],
 "metadata": {
  "anaconda-cloud": {},
  "kernelspec": {
   "display_name": "Python [default]",
   "language": "python",
   "name": "python2"
  },
  "language_info": {
   "codemirror_mode": {
    "name": "ipython",
    "version": 2
   },
   "file_extension": ".py",
   "mimetype": "text/x-python",
   "name": "python",
   "nbconvert_exporter": "python",
   "pygments_lexer": "ipython2",
   "version": "2.7.12"
  }
 },
 "nbformat": 4,
 "nbformat_minor": 0
}
